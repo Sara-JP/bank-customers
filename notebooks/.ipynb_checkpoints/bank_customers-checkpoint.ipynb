{
 "cells": [
  {
   "cell_type": "markdown",
   "id": "d333515a",
   "metadata": {},
   "source": [
    "<h1 align=center style=\"line-height:200%;font-family:vazir;color:#0099cc\">\n",
    "<font face=\"vazir\" color=\"#0099cc\">\n",
    "مشتریان بانک\n",
    "</font>\n",
    "</h1>"
   ]
  },
  {
   "cell_type": "markdown",
   "id": "6ed20bff",
   "metadata": {},
   "source": [
    "<h2 align=right style=\"line-height:200%;font-family:vazir;color:#0099cc\">\n",
    "<font face=\"vazir\" color=\"#0099cc\">\n",
    "مقدمه و صورت مسئله\n",
    "</font>\n",
    "</h2>\n",
    "\n",
    "<p dir=rtl style=\"direction: rtl; text-align: justify; line-height:200%; font-family:vazir; font-size:medium\">\n",
    "<font face=\"vazir\" size=3>\n",
    "    وقتی اسم مشتریان بانک را می‌شنویم، شاید اولین گزینه‌ای که به ذهنمان می‌رسد همان افرادی هستند که پشت باجه‌ها صف‌های طولانی تشکیل می‌دهند؛ پس طبیعتا اگر بخواهیم با استفاده یادگیری ماشین کمکی به آن‌ها بکنیم، اولین ایده این است که پیشبینی کنیم در چه زمانی به بانک مراجعه کنند که زمان کمتری در صف منتظر بمانند!\n",
    "    <br>\n",
    "     اما در این تمرین از طرف بانک مامور شده‌ایم تا با تحلیل پویش‌های بازاریابی (Marketing Campaign) بانک، تخمین بزنیم در پویش‌های پیشِ رو، چه افرادی ممکن است به پویش پاسخ مثبت بدهند.\n",
    "    <br>\n",
    "    با سرمایه‌گذاری روی افرادی که احتمال سپرده‌گذاری آن‌ها بیشتر است، بانک می‌توان پول بیشتری را در گاوصندوق‌های خود ذخیره کند و از این طریق رتبه خود را افزایش دهد و بتواند خدمات بیشتری برای مشتریان خود ارائه کند.\n",
    "    <br>\n",
    "   در این تمرین اطلاعات کمپین (پویش)‌های پیشین یک بانک پرتغالی را در اختیار داریم و قصد داریم افرادی را شناسایی کنیم که به پویش فعلی پاسخ مثبت می‌هند. هدف این پویش، ایجاد «سپرده مدت دار بانکی» است.\n",
    "</font>\n",
    "</p>"
   ]
  },
  {
   "cell_type": "markdown",
   "id": "c5af1784",
   "metadata": {},
   "source": [
    "<h2 align=right style=\"line-height:200%;font-family:vazir;color:#0099cc\">\n",
    "<font face=\"vazir\" color=\"#0099cc\">\n",
    "وارد کردن کتابخانه‌های مورد نیاز\n",
    "</font>\n",
    "</h2>\n",
    "\n",
    "<p dir=rtl style=\"direction: rtl; text-align: justify; line-height:200%; font-family:vazir; font-size:medium\">\n",
    "<font face=\"vazir\" size=3>\n",
    "    ابتدا کتابخانه‌های مورد نیازتان را وارد کنید.\n",
    "</font>\n",
    "</p>"
   ]
  },
  {
   "cell_type": "code",
   "execution_count": 1,
   "id": "99450f9e",
   "metadata": {},
   "outputs": [],
   "source": [
    "import numpy as np\n",
    "import pandas as pd "
   ]
  },
  {
   "cell_type": "markdown",
   "id": "72faaed8",
   "metadata": {},
   "source": [
    "<h2 align=right style=\"line-height:200%;font-family:vazir;color:#0099cc\">\n",
    "<font face=\"vazir\" color=\"#0099cc\">\n",
    "معرفی مجموعه داده\n",
    "</font>\n",
    "</h2>\n",
    "\n",
    "<p dir=rtl style=\"direction: rtl; text-align: justify; line-height:200%; font-family:vazir; font-size:medium\">\n",
    "<font face=\"vazir\" size=3>\n",
    "    با مجموعه داده این تمرین، در تمرین «بازاریابی بانکی» از فصل مهندسی ویژگی آشنا شده‌ایم.\n",
    "    <br>\n",
    "در این تمرین، مانند تمرین‌های پیشین دو مجموعه‌داده در اختیار شما قرار می‌گیرد که یکی مربوط به مجموعه آموزش و دیگری مجموعه آزمون است. \n",
    "    <br>\n",
    "    در مجموعه آموزش، ۳۹۱۸۸ سطر و ۲۱ ستون وجود دارد که در جدول زیر، توضیحات ستون‌ها را با هم مرور می‌کنیم.\n",
    "    <br>\n",
    "    طبیعی است که مجموعه آزمون، ستون متغیرهدف را نداشته باشد و با مجموعا ۲۰ ستون در اختیار شما قرار بگیرد!\n",
    "</font>\n",
    "</p>\n",
    "\n",
    "<center>\n",
    "<div dir=rtl style=\"direction: rtl;line-height:200%;font-family:vazir;font-size:medium\">\n",
    "<font face=\"vazir\" size=3>\n",
    "    \n",
    "|ستون|توضیحات|\n",
    "|:------:|:---:|\n",
    "|age|ستونی دارای مقادیر عددی که سن مشتری را نشان می‌دهد|\n",
    "|job|ستونی با مقادیر دسته‌ای که وضعیت شغلی مشتری را نشان می‌دهد|\n",
    "|marital|این ستون که مقادیر دسته‌ای را می‌پذیرد، وضعیت تاهل مشتری را مدل کرده است|\n",
    "|education|وضعیت تحصیلی مشتری را به شکل دسته‌ای، نشان می‌دهد|\n",
    "|default|نشان می‌دهد که آیا به صورت پیشفرض، مشتری اعتبار بانکی دارد یا خیر|\n",
    "|housing|آیا مشتری برای مسکن، وتم گرفته است یا خیر|\n",
    "|loan|آیا مشتری وام شخصی دریافت کرده است یا خیر؟|\n",
    "|contact|نحوه ارتباط با مشتری را نشان می‌دهد. این ستون یکی از دو مقدار *cellular* و *telephone* را می‌تواند اختیار کند. به این معنی که بانک با تلفن همراه مشتری تماس گرفته است یا تلفن ثابت|\n",
    "|month|این ستون دسته‌ای، نشان می‌دهد آخرین باری که با مشتری تماس گرفته شده است، در چه ماهی بوده است|\n",
    "|day_of_week|روزی که آخرین تماس با مشتری گرفته شده است، چه روزی بوده است؟ (شنبه، یکشنبه، ...، جمعه)|\n",
    "|campaign|تعداد تماس‌هایی که تا به حال با مشتری برای کمپین جاری گرفته شده است|\n",
    "|pdays|تعداد روزی که از آخرین تماس با مشتری برای کمپین قبلی می‌گذرد. عدد ۹۹۹ به این معنی است که قبلا با مشتری تماس گرفته نشده است|\n",
    "|previous|تعداد تماس‌هایی که با مشتری برای کمپین‌های قبلی گرفته شده است|\n",
    "|poutcome|نتیجه کمپین‌های قبلی برای مشتری|\n",
    "|emp.var.rate|نرخ تغییرات اشتغال در بازه سه ماهه|\n",
    "|cons.price.idx|شاخص قیمت مصرف‌کننده در بازه یک ماهه|\n",
    "|cons.conf.idx|شاخص اعتماد مصرف‌کننده در بازه یک ماهه|\n",
    "|euribor3m|نرخ بهره بانکی برای وام‌های بین بانکی اروپایی|\n",
    "|nr.employed|تعداد کارمندان در بازه سه ماهه|\n",
    "|y|آیا فرد به پویش سرمایه‌گذاری بانک پاسخ مثبت داده یا خیر|\n",
    "    \n",
    "</font>\n",
    "</div>\n",
    "</center>\n",
    "\n",
    "\n",
    "<p dir=rtl style=\"direction: rtl; text-align: justify; line-height:200%; font-family:vazir; font-size:medium\">\n",
    "<font face=\"vazir\" size=3>\n",
    "    مجموعه داده آزمایش، دقیقا مانند مجموعه داده آموزش است با این تفاوت که ستون <code>y</code> را ندارد.\n",
    "</font>\n",
    "</p>"
   ]
  },
  {
   "cell_type": "markdown",
   "id": "e99bbe9b",
   "metadata": {},
   "source": [
    "<h2 align=right style=\"line-height:200%;font-family:vazir;color:#0099cc\">\n",
    "<font face=\"vazir\" color=\"#0099cc\">\n",
    "خواندن مجموعه داده\n",
    "</font>\n",
    "</h2>\n",
    "\n",
    "<p dir=rtl style=\"direction: rtl; text-align: justify; line-height:200%; font-family:vazir; font-size:medium\">\n",
    "<font face=\"vazir\" size=3>\n",
    "    در ابتدا نیاز است فایل‌های مجموعه‌داده را بخوانید. نمونه‌های آموزشی در فایل <code>bank_customers_train.csv</code> و نمونه‌های آزمون که باید دسته‌ی آن‌ها را پیش‌بینی کنید در فایل <code>bank_customers_test.csv</code> ذخیره شده‌اند. اگر لازم دانستید می‌توانید به دلخواه خود بخشی از دادگان آموزشی را به عنوان دادگان اعتبارسنجی نیز جدا کنید.\n",
    "</font>\n",
    "</p>"
   ]
  },
  {
   "cell_type": "code",
   "execution_count": 2,
   "id": "15175ae4",
   "metadata": {},
   "outputs": [],
   "source": [
    "train_data = pd.read_csv('../data/bank_customers_train.csv')\n",
    "test_data = pd.read_csv('../data/bank_customers_test.csv')"
   ]
  },
  {
   "cell_type": "markdown",
   "id": "23daec54",
   "metadata": {},
   "source": [
    "<h2 align=right style=\"line-height:200%;font-family:vazir;color:#0099cc\">\n",
    "<font face=\"vazir\" color=\"#0099cc\">\n",
    "پیش‌پردازش و مهندسی ویژگی\n",
    "</font>\n",
    "</h2>\n",
    "\n",
    "<p dir=rtl style=\"direction: rtl; text-align: justify; line-height:200%; font-family:vazir; font-size:medium\">\n",
    "<font face=\"vazir\" size=3>\n",
    "    در این سوال شما می‌توانید از هر تکنیک پیش‌پردازش/مهندسی ویژگی که در فصل‌های گذشته آموختید، استفاده کنید.\n",
    "    <br>\n",
    "    تکنیک‌هایی که استفاده می‌کنید به شکل مستقیم مورد ارزیابی توسط سامانه داوری قرار <b>نمی‌گیرند.</b> بلکه همه آن‌ها در دقت مدل شما تاثیر خواهند گذاشت؛ بنابراین هر چه پیش‌پردازش/مهندسی ویژگی بهتری انجام دهید تا دقت مدل بهبود پیدا کند، امتیاز بیشتری از این سوال کسب خواهید کرد.\n",
    "</font>\n",
    "</p>"
   ]
  },
  {
   "cell_type": "code",
   "execution_count": null,
   "id": "f4c4fd74",
   "metadata": {},
   "outputs": [],
   "source": [
    "# do some preprocessing"
   ]
  },
  {
   "cell_type": "markdown",
   "id": "97c6d38b",
   "metadata": {},
   "source": [
    "<h2 align=right style=\"line-height:200%;font-family:vazir;color:#0099cc\">\n",
    "<font face=\"vazir\" color=\"#0099cc\">\n",
    "مدلسازی\n",
    "</font>\n",
    "</h2>\n",
    "\n",
    "<p dir=rtl style=\"direction: rtl;text-align: right;line-height:200%;font-family:vazir;font-size:medium\">\n",
    "<font face=\"vazir\" size=3>\n",
    "    حال که داده را پاکسازی کرده و احتمالا ویژگی‌هایی را به آن افزوده یا از آن حذف کرده‌اید، وقت آن است که مدلی آموزش دهید که بتواند متغیر هدف این مسئله را پیش‌بینی کند.\n",
    "</font>\n",
    "</p>"
   ]
  },
  {
   "cell_type": "markdown",
   "id": "f99f2c94",
   "metadata": {},
   "source": [
    "<h3 align=right style=\"direction: rtl;text-align: right;line-height:200%;font-family:vazir;color:#0099cc\">\n",
    "<font face=\"vazir\" color=\"#0099cc\">\n",
    "    استفاده از <code>scikit-learn</code>\n",
    "</font>\n",
    "</h3>\n",
    "\n",
    "\n",
    "<p dir=rtl style=\"direction: rtl;text-align: right;line-height:200%;font-family:vazir;font-size:medium\">\n",
    "<font face=\"vazir\" size=3>\n",
    "    الگوریتم <i>رگرسیون لجستیک</i> با نام <code>AdaBoostClassifier</code> در پکیج <code>ensemble</code> این کتابخانه در دسترس است. برخی از آرگومان‌های مهم آن در جدول زیر آمده است، اما جهت مطالعه‌ی کامل‌تر مستندات می‌توانید به <a href=\"https://scikit-learn.org/stable/modules/generated/sklearn.ensemble.AdaBoostClassifier.html\" target=\"_blank\">این لینک</a> مراجعه فرمایید.\n",
    "</font>\n",
    "</p>\n",
    "\n",
    "<center>\n",
    "<div dir=rtl style=\"direction: rtl;text-align: right;line-height:200%;font-family:vazir;font-size:medium\">\n",
    "<font face=\"vazir\" size=3>\n",
    "    \n",
    "|آرگومان|جنس و تایپ|توضیحات|\n",
    "|:------:|:--------:|:---:|\n",
    "|base_estimator|<code>object</code> یا <code>None</code>|مدل تخمین‌زن پایه الگوریتم آدابوست را با این آرگومان مشخص می‌کنیم. در این آرگومان می‌توانیم مدلی مانند جنگل تصادفی قرار دهیم. اگر مقداری برای این آرگومان در نظر نگیریم، به طور پیشفرض،‌الگوریتم درخت تصمیم به عنوان تخمین‌زن پایه در نظر گرفته می‌شود.|\n",
    "|n_estimators|<code>int</code>|تعداد تخمین‌زن‌های پایه که دوست داریم با هم دیگر ادغام شوند و الگوریتم آدابوست را تشکیل دهند، با این آرگومان مشخص می‌کنیم. این آرگومان به صورت پیشفرض روی عدد ۵۰ تنظیم شده است.|\n",
    "|learning_rate|<code>float</code>|این آرگومان، وزن هر تخمین‌زن در هر چرخه بوستینگ را مشخص می‌کند. به عبارت بهتر آنچه این آرگومان مشخص می‌کند، تاثیر هر تخمین‌زن در خروجی مدل است. در این کتابخانه، همه تخمین‌زن‌های ساده به یک اندازه در خروجی مدل تاثیر می‌گذارند.|\n",
    "|random_state|<code>int</code>|وضعیت تصادفی‌بودن تخمین‌زن‌های پایه در هر چرخه بوستینگ را با این آرگومان مشخص می‌کنیم. برای مطالعه بیشتر، می‌توانید <a href=\"https://scikit-learn.org/stable/glossary.html#term-random_state\" target=\"_blank\">این لینک</a> را مطالعه کنید.|\n",
    "\n",
    "\n",
    "</font>\n",
    "</div>\n",
    "</center>\n"
   ]
  },
  {
   "cell_type": "markdown",
   "id": "7d90b4d9",
   "metadata": {},
   "source": [
    "<h3 align=right style=\"line-height:200%;font-family:vazir;color:#0099cc\">\n",
    "<font face=\"vazir\" color=\"#0099cc\">\n",
    "آموزش مدل\n",
    "</font>\n",
    "</h3>\n",
    "\n",
    "<p dir=rtl style=\"direction: rtl; text-align: justify; line-height:200%; font-family:vazir; font-size:medium\">\n",
    "<font face=\"vazir\" size=3>\n",
    "    در سلول زیر با استفاده از مدل آماده‌ای که در بالا شرح داده شد و به کمک تابع <code>fit</code> الگوریتم را بر روی دادگان آموزشی اجرا کنید.\n",
    "</font>\n",
    "</p>"
   ]
  },
  {
   "cell_type": "code",
   "execution_count": null,
   "id": "88bcd5e6",
   "metadata": {},
   "outputs": [],
   "source": [
    "# modeling\n",
    "model = None "
   ]
  },
  {
   "cell_type": "markdown",
   "id": "33da5d2a",
   "metadata": {},
   "source": [
    "<h3 align=right style=\"line-height:200%;font-family:vazir;color:#0099cc\">\n",
    "<font face=\"vazir\" color=\"#0099cc\">\n",
    "معیار ارزیابی\n",
    "</font>\n",
    "</h3>\n",
    "\n",
    "<p dir=rtl style=\"direction: rtl; text-align: justify; line-height:200%; font-family:vazir; font-size:medium\">\n",
    "<font face=\"vazir\" size=3>\n",
    "    معیاری که برای ارزیابی عملکرد مدل انتخاب کرده‌ایم، <code>f1_score</code> نام دارد.\n",
    "    <br>\n",
    "    این معیار، سنجه ارزیابی کیفیت مدل شماست. به عبارت بهتر در سامانه داوری هم از همین معیار برای نمره‌دهی استفاده شده است.\n",
    "    <br>\n",
    "    پیشنهاد می‌شود با توجه به این معیار، عملکرد مدل خود را بر روی دادگان آموزش یا اعتبارسنجی ارزیابی کنید.\n",
    "</font>\n",
    "</p>"
   ]
  },
  {
   "cell_type": "markdown",
   "id": "ddad09cf",
   "metadata": {},
   "source": [
    "<p dir=rtl style=\"direction: rtl; text-align: justify; line-height:200%; font-family:vazir; font-size:medium\">\n",
    "<font color=\"red\"><b color='red'>توجه:</b></font>\n",
    "<font face=\"vazir\" size=3>\n",
    " جهت کسب امتیاز کامل نیاز است تا پاسخ شما حداقل امتیاز <code>50 %</code> را با توجه به معیار معرفی‌شده کسب نماید.\n",
    "</font>\n",
    "</p>"
   ]
  },
  {
   "cell_type": "code",
   "execution_count": null,
   "id": "97df9953",
   "metadata": {
    "scrolled": true
   },
   "outputs": [],
   "source": [
    "# evaluate model"
   ]
  },
  {
   "cell_type": "markdown",
   "id": "4e9984de",
   "metadata": {},
   "source": [
    "<h2 align=right style=\"line-height:200%;font-family:vazir;color:#0099cc\">\n",
    "<font face=\"vazir\" color=\"#0099cc\">\n",
    " پیش‌بینی برای داده تست و خروجی\n",
    "</font>\n",
    "</h2>\n",
    "\n",
    "<p dir=rtl style=\"direction: rtl;text-align: right;line-height:200%;font-family:vazir;font-size:medium\">\n",
    "<font face=\"vazir\" size=3>\n",
    "    پس از مهندسی ویژگی و مدلسازی، الگوریتمی دارید که می‌تواند شما را از متغیرهای مستقل به متغیر هدف برساند.\n",
    "    <br>\n",
    "    از این مدل برای پیش‌بینی نمونه‌های موجود در داده تست استفاده کنید و نتایج را در قالب جدول (<code>dataframe</code>) زیر آماده کنید.\n",
    "</font>\n",
    "</p>\n",
    "\n",
    "<div dir=rtl style=\"direction: rtl;text-align: right;line-height:200%;font-family:vazir;font-size:medium\">\n",
    "<font face=\"vazir\" size=3>\n",
    "    \n",
    "|ستون|توضیحات|\n",
    "|------|---|\n",
    "|y|آیا شخص به پویش بازاریابی بانک پاسخ مثبت می‌دهد یا خیر|\n",
    "    \n",
    "</font>\n",
    "</div>\n",
    "\n"
   ]
  },
  {
   "cell_type": "markdown",
   "id": "c2f6d82d",
   "metadata": {},
   "source": [
    "<p dir=rtl style=\"direction: rtl;text-align: right;line-height:200%;font-family:vazir;font-size:medium\">\n",
    "<font face=\"vazir\" size=3>\n",
    "    اسم دیتافریم باید <i>submission</i> باشد؛ در غیر این صورت، سامانه داوری نمی‌تواند تلاش‌ شما را ارزیابی کند.\n",
    "    <br>\n",
    "    این دیتافریم تنها شامل ۱ ستون با اسم <i>y</i> است و ۲۰۰۰ سطر دارد.\n",
    "    <br>\n",
    "    به ازای هر سطر موجود در دیتافریم <i>test</i> شما باید یک مقدار پیشبینی شده داشته باشید.\n",
    "    <br>\n",
    "    جدول زیر، ۵ سطر ابتدایی دیتافریم <code>submission</code> را نشان می‌دهد. البته در جواب شما، اعداد ستون <i>y</i> ممکن است متفاوت باشد.\n",
    "</font>\n",
    "</p>\n",
    "\n",
    "<div style=\"text-align: right;line-height:200%;font-family:vazir;font-size:medium\">\n",
    "<font face=\"vazir\" size=3>\n",
    "    \n",
    "||y|\n",
    "|----|-----|\n",
    "|0|1|\n",
    "|1|1|\n",
    "|2|0|\n",
    "|3|1|\n",
    "|4|0|\n",
    "\n",
    "</font>\n",
    "</div>\n",
    "\n"
   ]
  },
  {
   "cell_type": "code",
   "execution_count": null,
   "id": "3d4a0844",
   "metadata": {},
   "outputs": [],
   "source": [
    "# predict test samples\n",
    "submission = pd.DataFrame()\n"
   ]
  },
  {
   "cell_type": "markdown",
   "id": "0a77e7cd",
   "metadata": {},
   "source": [
    "<h2 align=right style=\"line-height:200%;font-family:vazir;color:#0099cc\">\n",
    "<font face=\"vazir\" color=\"#0099cc\">\n",
    "<b>سلول جواب‌ساز</b>\n",
    "</font>\n",
    "</h2>\n",
    "\n",
    "<p dir=rtl style=\"direction: rtl; text-align: justify; line-height:200%; font-family:vazir; font-size:medium\">\n",
    "<font face=\"vazir\" size=3>\n",
    "    برای ساخته‌شدن فایل <code>result.zip</code> سلول زیر را اجرا کنید. توجه داشته باشید که پیش از اجرای سلول زیر تغییرات اعمال شده در نت‌بوک را ذخیره کرده باشید (<code>ctrl+s</code>) تا در صورت نیاز به پشتیبانی امکان بررسی کد شما وجود داشته باشد.\n",
    "</font>\n",
    "</p>"
   ]
  },
  {
   "cell_type": "code",
   "execution_count": null,
   "id": "2c3bcd76",
   "metadata": {},
   "outputs": [],
   "source": [
    "import zipfile\n",
    "import joblib\n",
    "\n",
    "def compress(file_names):\n",
    "    print(\"File Paths:\")\n",
    "    print(file_names)\n",
    "    compression = zipfile.ZIP_DEFLATED\n",
    "    with zipfile.ZipFile(\"result.zip\", mode=\"w\") as zf:\n",
    "        for file_name in file_names:\n",
    "            zf.write('./' + file_name, file_name, compress_type=compression)\n",
    "\n",
    "joblib.dump(model, 'model')\n",
    "submission.to_csv('submission.csv', index=False)\n",
    "file_names = ['bank_customers.ipynb', 'submission.csv', 'model']\n",
    "compress(file_names)"
   ]
  }
 ],
 "metadata": {
  "kernelspec": {
   "display_name": "Python 3 (ipykernel)",
   "language": "python",
   "name": "python3"
  },
  "language_info": {
   "codemirror_mode": {
    "name": "ipython",
    "version": 3
   },
   "file_extension": ".py",
   "mimetype": "text/x-python",
   "name": "python",
   "nbconvert_exporter": "python",
   "pygments_lexer": "ipython3",
   "version": "3.9.2"
  }
 },
 "nbformat": 4,
 "nbformat_minor": 5
}
