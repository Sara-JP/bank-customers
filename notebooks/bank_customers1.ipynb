{
 "cells": [
  {
   "cell_type": "markdown",
   "id": "d333515a",
   "metadata": {},
   "source": [
    "<h1 align=center style=\"line-height:200%;font-family:vazir;color:#0099cc\">\n",
    "<font face=\"vazir\" color=\"#0099cc\">\n",
    "نام تمرین\n",
    "</font>\n",
    "</h1>"
   ]
  },
  {
   "cell_type": "markdown",
   "id": "6ed20bff",
   "metadata": {},
   "source": [
    "<h2 align=right style=\"line-height:200%;font-family:vazir;color:#0099cc\">\n",
    "<font face=\"vazir\" color=\"#0099cc\">\n",
    "مقدمه و صورت مسئله\n",
    "</font>\n",
    "</h2>\n",
    "\n",
    "<p dir=rtl style=\"direction: rtl; text-align: justify; line-height:200%; font-family:vazir; font-size:medium\">\n",
    "<font face=\"vazir\" size=3>\n",
    "    ...\n",
    "</font>\n",
    "</p>"
   ]
  },
  {
   "cell_type": "markdown",
   "id": "c5af1784",
   "metadata": {},
   "source": [
    "<h2 align=right style=\"line-height:200%;font-family:vazir;color:#0099cc\">\n",
    "<font face=\"vazir\" color=\"#0099cc\">\n",
    "وارد کردن کتابخانه‌های مورد نیاز\n",
    "</font>\n",
    "</h2>\n",
    "\n",
    "<p dir=rtl style=\"direction: rtl; text-align: justify; line-height:200%; font-family:vazir; font-size:medium\">\n",
    "<font face=\"vazir\" size=3>\n",
    "    ابتدا کتابخانه‌های مورد نیازتان را وارد کنید.\n",
    "</font>\n",
    "</p>"
   ]
  },
  {
   "cell_type": "code",
   "execution_count": 1,
   "id": "99450f9e",
   "metadata": {},
   "outputs": [],
   "source": [
    "import numpy as np\n",
    "import pandas as pd \n",
    "from sklearn.preprocessing import LabelEncoder, OneHotEncoder"
   ]
  },
  {
   "cell_type": "markdown",
   "id": "72faaed8",
   "metadata": {},
   "source": [
    "<h2 align=right style=\"line-height:200%;font-family:vazir;color:#0099cc\">\n",
    "<font face=\"vazir\" color=\"#0099cc\">\n",
    "معرفی مجموعه داده\n",
    "</font>\n",
    "</h2>\n",
    "\n",
    "<p dir=rtl style=\"direction: rtl; text-align: justify; line-height:200%; font-family:vazir; font-size:medium\">\n",
    "<font face=\"vazir\" size=3>\n",
    "...    \n",
    "</font>\n",
    "</p>\n",
    "\n",
    "<center>\n",
    "<div dir=rtl style=\"direction: rtl;line-height:200%;font-family:vazir;font-size:medium\">\n",
    "<font face=\"vazir\" size=3>\n",
    "    \n",
    "|ستون|توضیحات|\n",
    "|:------:|:---:|\n",
    "|DateTime|زمان ثبت رکورد|\n",
    "|Junction|شماره چهارراه|\n",
    "|Car|تعداد ماشین‌های گذرکرده|\n",
    "    \n",
    "</font>\n",
    "</div>\n",
    "</center>\n",
    "\n",
    "\n",
    "<p dir=rtl style=\"direction: rtl; text-align: justify; line-height:200%; font-family:vazir; font-size:medium\">\n",
    "<font face=\"vazir\" size=3>\n",
    "    توضیحات اضافه\n",
    "</font>\n",
    "</p>"
   ]
  },
  {
   "cell_type": "markdown",
   "id": "e99bbe9b",
   "metadata": {},
   "source": [
    "<h2 align=right style=\"line-height:200%;font-family:vazir;color:#0099cc\">\n",
    "<font face=\"vazir\" color=\"#0099cc\">\n",
    "خواندن مجموعه داده\n",
    "</font>\n",
    "</h2>\n",
    "\n",
    "<p dir=rtl style=\"direction: rtl; text-align: justify; line-height:200%; font-family:vazir; font-size:medium\">\n",
    "<font face=\"vazir\" size=3>\n",
    "    در ابتدا نیاز است فایل‌های مجموعه‌داده را بخوانید. نمونه‌های آموزشی در فایل <code>train.csv</code> و نمونه‌های آزمون که باید دسته‌ی آن‌ها را پیش‌بینی کنید در فایل <code>test.csv</code> ذخیره شده‌اند. اگر لازم دانستید می‌توانید به دلخواه خود بخشی از دادگان آموزشی را به عنوان دادگان اعتبارسنجی نیز جدا کنید.\n",
    "</font>\n",
    "</p>"
   ]
  },
  {
   "cell_type": "code",
   "execution_count": 2,
   "id": "b041170c",
   "metadata": {},
   "outputs": [],
   "source": [
    "train_data = pd.read_csv('../data/bank_customers_train.csv')\n",
    "test_data = pd.read_csv('../data/bank_customers_test.csv')"
   ]
  },
  {
   "cell_type": "code",
   "execution_count": 3,
   "id": "ad9bbf0a",
   "metadata": {},
   "outputs": [],
   "source": [
    "# df = pd.read_csv('../data/bank-additional-full.csv',delimiter=';', na_values='unknown')\n",
    "# df"
   ]
  },
  {
   "cell_type": "code",
   "execution_count": 4,
   "id": "75cf4c64",
   "metadata": {},
   "outputs": [],
   "source": [
    "# from sklearn.model_selection import train_test_split\n",
    "# train, test = train_test_split(df.drop('duration', axis=1), test_size=2000, random_state= np.random.randint(20000), stratify=df.y)\n",
    "# catcols = list(df.select_dtypes(include='object').columns)\n",
    "\n",
    "# for col in catcols  :\n",
    "#     try : \n",
    "#         assert set(train[col].unique()) == set(test[col].unique())\n",
    "#     except :\n",
    "#         print(col)"
   ]
  },
  {
   "cell_type": "code",
   "execution_count": 5,
   "id": "84426d22",
   "metadata": {},
   "outputs": [],
   "source": [
    "# ans = test[['y']]\n",
    "# test2 = test.drop('y', axis=1)"
   ]
  },
  {
   "cell_type": "code",
   "execution_count": 6,
   "id": "49e2a188",
   "metadata": {},
   "outputs": [],
   "source": [
    "# train.to_csv('../data/mall_customers_train.csv', index=False)\n",
    "# test2.to_csv('../data/mall_customers_test.csv', index=False)\n",
    "\n",
    "# train.to_csv('../../initial_project/data/mall_customers_train.csv', index=False)\n",
    "# test2.to_csv('../../initial_project/data/mall_customers_test.csv', index=False)\n",
    "\n",
    "# ans.to_csv('../../judge/true_values/df_true.csv', index=False)"
   ]
  },
  {
   "cell_type": "code",
   "execution_count": 7,
   "id": "5471b6b9",
   "metadata": {},
   "outputs": [],
   "source": [
    "# train = pd.read_csv('../../initial_project/data/mall_customers_train.csv', )\n",
    "# test = pd.read_csv('../../initial_project/data/mall_customers_test.csv', )\n",
    "\n",
    "# ans = pd.read_csv('../../judge/true_values/df_true.csv', )"
   ]
  },
  {
   "cell_type": "code",
   "execution_count": 8,
   "id": "e95f4144",
   "metadata": {},
   "outputs": [],
   "source": [
    "\n",
    "# for col in catcols  :\n",
    "#     try : \n",
    "#         assert set(train[col].unique()) == set(test[col].unique())\n",
    "#     except :\n",
    "#         print(col)"
   ]
  },
  {
   "cell_type": "code",
   "execution_count": 9,
   "id": "2b14a9d5",
   "metadata": {},
   "outputs": [],
   "source": [
    "# train_data.drop('duration', axis=1, inplace=True)\n",
    "# test_data.drop('duration', axis=1, inplace=True)"
   ]
  },
  {
   "cell_type": "code",
   "execution_count": 10,
   "id": "e340b245",
   "metadata": {},
   "outputs": [],
   "source": [
    "# train_data.to_csv('../data/bank_customers_train.csv', index=False)\n",
    "# test_data.to_csv('../data/bank_customers_test.csv', index=False)\n",
    "\n",
    "# train_data.to_csv('../../initial_project/data/bank_customers_train.csv', index=False)\n",
    "# test_data.to_csv('../../initial_project/data/bank_customers_test.csv', index=False)\n"
   ]
  },
  {
   "cell_type": "code",
   "execution_count": 11,
   "id": "7dcb9e87",
   "metadata": {},
   "outputs": [],
   "source": [
    "# train_data = pd.read_csv('../data/bank_customers_train.csv')\n"
   ]
  },
  {
   "cell_type": "code",
   "execution_count": 12,
   "id": "adb6ba5a",
   "metadata": {},
   "outputs": [],
   "source": [
    "# test_data = pd.read_csv('../data/bank_customers_test.csv')\n",
    "# test_data"
   ]
  },
  {
   "cell_type": "code",
   "execution_count": 13,
   "id": "1092bc3f",
   "metadata": {},
   "outputs": [],
   "source": [
    "# catcols = list(train_data.select_dtypes(include='object').columns)\n",
    "\n",
    "# for col in catcols  :\n",
    "#     try : \n",
    "#         assert set(train_data[col].unique()) == set(test_data[col].unique())\n",
    "#     except :\n",
    "#         print(col)"
   ]
  },
  {
   "cell_type": "code",
   "execution_count": 14,
   "id": "31c3b0aa",
   "metadata": {},
   "outputs": [],
   "source": [
    "# for col in test_data.columns : \n",
    "#     print(col)"
   ]
  },
  {
   "cell_type": "code",
   "execution_count": 15,
   "id": "a482e4f8",
   "metadata": {},
   "outputs": [],
   "source": [
    "# cols_to_drop = df.iloc[:,-6:-1].columns.to_list() \n",
    "# # df.drop(cols_to_drop + ['duration'], axis=1, inplace=True)\n",
    "# df.drop(['duration'], axis=1, inplace=True)\n",
    "\n",
    "# df"
   ]
  },
  {
   "cell_type": "code",
   "execution_count": 16,
   "id": "98e13c11",
   "metadata": {
    "scrolled": true
   },
   "outputs": [],
   "source": [
    "# def isna() :\n",
    "#     print(df.isna().sum() / df.shape[0])\n",
    "    \n",
    "# isna()"
   ]
  },
  {
   "cell_type": "code",
   "execution_count": 17,
   "id": "9dfbb7bb",
   "metadata": {},
   "outputs": [],
   "source": [
    "# df.drop('default', axis=1, inplace=True)\n",
    "\n",
    "# isna()"
   ]
  },
  {
   "cell_type": "code",
   "execution_count": 18,
   "id": "177c5dcf",
   "metadata": {},
   "outputs": [],
   "source": [
    "# df.fillna({'marital':df.marital.mode()[0]}, inplace=True)\n",
    "# isna()"
   ]
  },
  {
   "cell_type": "code",
   "execution_count": 19,
   "id": "200e94b1",
   "metadata": {},
   "outputs": [],
   "source": [
    "# df.fillna({'job':df.job.mode()[0]}, inplace=True)\n",
    "# isna()"
   ]
  },
  {
   "cell_type": "code",
   "execution_count": 20,
   "id": "e097db81",
   "metadata": {},
   "outputs": [],
   "source": [
    "# housing_loan_crosstab = pd.crosstab( index=df['housing'], columns=df['loan'],)\n",
    "# housing_loan_crosstab"
   ]
  },
  {
   "cell_type": "code",
   "execution_count": 21,
   "id": "71d65e6b",
   "metadata": {},
   "outputs": [],
   "source": [
    "# from scipy.stats import chi2_contingency\n",
    "\n",
    "# stat, p, dof, expected = chi2_contingency(housing_loan_crosstab)\n",
    "# alpha = 0.05\n",
    "# print(\"p value is \" + str(p))\n",
    "# if p <= alpha:\n",
    "#     print('Dependent (reject H0)')\n",
    "# else:\n",
    "#     print('Independent (H0 holds true)')"
   ]
  },
  {
   "cell_type": "code",
   "execution_count": 22,
   "id": "807634fa",
   "metadata": {},
   "outputs": [],
   "source": [
    "# isna()"
   ]
  },
  {
   "cell_type": "code",
   "execution_count": 23,
   "id": "5a065fc2",
   "metadata": {
    "scrolled": true
   },
   "outputs": [],
   "source": [
    "# values_for_fill = {\n",
    "#     \"loan\" : df.loan.mode()[0], \n",
    "#     \"housing\" : df.housing.mode()[0]\n",
    "# }\n",
    "# values_for_fill\n"
   ]
  },
  {
   "cell_type": "code",
   "execution_count": 24,
   "id": "62a013b1",
   "metadata": {},
   "outputs": [],
   "source": [
    "# df.fillna(values_for_fill, inplace=True)\n",
    "# isna()"
   ]
  },
  {
   "cell_type": "code",
   "execution_count": 25,
   "id": "c930df1d",
   "metadata": {},
   "outputs": [],
   "source": [
    "# job_edu_corsstab = pd.crosstab(index=df.job, columns=df.education)\n",
    "# stat, p, dof, expected = chi2_contingency(job_edu_corsstab)\n",
    "# alpha = 0.05\n",
    "# print(\"p value is \" + str(p))\n",
    "# if p <= alpha:\n",
    "#     print('Dependent (reject H0)')\n",
    "# else:\n",
    "#     print('Independent (H0 holds true)')"
   ]
  },
  {
   "cell_type": "code",
   "execution_count": 26,
   "id": "4b7c0e11",
   "metadata": {},
   "outputs": [],
   "source": [
    "# job_edu_corsstab.divide(job_edu_corsstab.sum(axis=1), axis='index') * 100"
   ]
  },
  {
   "cell_type": "code",
   "execution_count": 27,
   "id": "0c6cd3b5",
   "metadata": {},
   "outputs": [],
   "source": [
    "# values_to_fill_education = job_edu_corsstab.idxmax(axis=1)\n",
    "# values_to_fill_education"
   ]
  },
  {
   "cell_type": "code",
   "execution_count": 28,
   "id": "147aa56e",
   "metadata": {},
   "outputs": [],
   "source": [
    "# def get_edu_by_job(row) :\n",
    "#     return values_to_fill_education[row['job']]\n",
    "\n",
    "# df.loc[:, 'education'].fillna(df.apply(get_edu_by_job, axis=1), inplace=True)\n",
    "# isna()"
   ]
  },
  {
   "cell_type": "code",
   "execution_count": 29,
   "id": "76a790ad",
   "metadata": {},
   "outputs": [],
   "source": [
    "# df.info()"
   ]
  },
  {
   "cell_type": "code",
   "execution_count": 30,
   "id": "a5f976a5",
   "metadata": {},
   "outputs": [],
   "source": [
    "# catcols = list(df.select_dtypes(include='object'))\n",
    "\n",
    "# for col in catcols :\n",
    "#     print(col)\n",
    "#     print(df[col].unique())\n",
    "#     print('--------')"
   ]
  },
  {
   "cell_type": "code",
   "execution_count": 31,
   "id": "e9c0b557",
   "metadata": {},
   "outputs": [],
   "source": [
    "# marital_encoder = LabelEncoder()\n",
    "# marital_encoder.fit(df[['marital']])\n",
    "# encoded_marital = marital_encoder.transform(df[['marital']])\n",
    "# df['marital'] = encoded_marital\n",
    "\n",
    "\n",
    "# job_encoder = LabelEncoder()\n",
    "# job_encoder.fit(df[['job']])\n",
    "# encoded_job = job_encoder.transform(df[['job']])\n",
    "# df['job'] = encoded_job"
   ]
  },
  {
   "cell_type": "code",
   "execution_count": null,
   "id": "065031f5",
   "metadata": {},
   "outputs": [],
   "source": []
  },
  {
   "cell_type": "code",
   "execution_count": 32,
   "id": "c5162606",
   "metadata": {},
   "outputs": [],
   "source": [
    "# job_marital_encoder = OneHotEncoder(sparse=False, dtype='int')\n",
    "# job_marital_encoder.fit(df[['job', 'marital']])\n",
    "\n",
    "# cols = list(job_marital_encoder.categories_[0]) +  list(job_marital_encoder.categories_[1])\n",
    "\n",
    "# encoded_job_marital = pd.DataFrame(job_marital_encoder.transform(df[['job', 'marital']]), columns = cols)\n",
    "\n",
    "# df = pd.concat([df,encoded_job_marital], axis=1)\n",
    "# df.drop(['job', 'marital'], axis=1, inplace=True)\n",
    "# df"
   ]
  },
  {
   "cell_type": "code",
   "execution_count": 33,
   "id": "2c85fdd3",
   "metadata": {},
   "outputs": [],
   "source": [
    "# education_encoding = {\n",
    "#     \"illiterate\" : 0,\n",
    "#     \"basic.4y\" : 1,\n",
    "#     \"basic.6y\" : 2,\n",
    "#     \"basic.9y\" : 3,\n",
    "#     \"high.school\" : 4,\n",
    "#     \"professional.course\" : 5,\n",
    "#     \"university.degree\" : 6,\n",
    "# }\n",
    "# df.loc[:, 'education'] = df.education.replace(education_encoding)\n",
    "# df"
   ]
  },
  {
   "cell_type": "code",
   "execution_count": 34,
   "id": "beb48324",
   "metadata": {},
   "outputs": [],
   "source": [
    "# yes_no_encoding = {\n",
    "#     \"yes\" : 1, \n",
    "#     \"no\" : 0\n",
    "# }\n",
    "# df.loc[:, 'housing'] = df.housing.replace(yes_no_encoding)\n",
    "# df.loc[:, 'loan'] = df.loan.replace(yes_no_encoding)\n",
    "# df.loc[:, 'y'] = df.y.replace(yes_no_encoding)\n",
    "\n",
    "# df"
   ]
  },
  {
   "cell_type": "code",
   "execution_count": 35,
   "id": "d0e1b8b0",
   "metadata": {},
   "outputs": [],
   "source": [
    "# contact_encoding = {\n",
    "#     \"telephone\" : 1 ,\n",
    "#     \"cellular\" : 0\n",
    "# }\n",
    "# df.loc[:, 'contact'] = df.contact.replace(contact_encoding)\n",
    "# df"
   ]
  },
  {
   "cell_type": "code",
   "execution_count": 36,
   "id": "9380d664",
   "metadata": {},
   "outputs": [],
   "source": [
    "# df.day_of_week.unique()"
   ]
  },
  {
   "cell_type": "code",
   "execution_count": 37,
   "id": "d122f450",
   "metadata": {},
   "outputs": [],
   "source": [
    "# month_encoding = {\n",
    "#     \"jan\" : 1,\n",
    "#     \"feb\" : 2,\n",
    "#     \"mar\" : 3,\n",
    "#     \"apr\" : 4,\n",
    "#     \"may\" : 5,\n",
    "#     \"jun\" : 6,\n",
    "#     \"jul\" : 7,\n",
    "#     \"aug\" : 8,\n",
    "#     \"sep\" : 9,\n",
    "#     \"oct\" : 10,\n",
    "#     \"nov\" : 11,\n",
    "#     \"dec\" : 12,\n",
    "# }\n",
    "\n",
    "# day_of_week_encoding = {\n",
    "#     \"mon\" : 1,\n",
    "#     \"tue\" : 2,\n",
    "#     \"wed\" : 3,\n",
    "#     \"thu\" : 4,\n",
    "#     \"fri\" : 5,\n",
    "#     \"sat\" : 6,\n",
    "#     \"sun\" : 7,\n",
    "# }\n",
    "# df.loc[:, 'month'] = df.month.replace(month_encoding)\n",
    "# df.loc[:, 'day_of_week'] = df.day_of_week.replace(day_of_week_encoding)\n",
    "\n",
    "# df"
   ]
  },
  {
   "cell_type": "code",
   "execution_count": 38,
   "id": "2acf3849",
   "metadata": {},
   "outputs": [],
   "source": [
    "# df.loc[:, 'pdays'] = df.pdays.replace({999:-1})\n",
    "# df"
   ]
  },
  {
   "cell_type": "code",
   "execution_count": 39,
   "id": "4d930676",
   "metadata": {},
   "outputs": [],
   "source": [
    "# df.pdays.value_counts()"
   ]
  },
  {
   "cell_type": "code",
   "execution_count": 40,
   "id": "c215bb8d",
   "metadata": {},
   "outputs": [],
   "source": [
    "# poutcome_encoding = {\n",
    "#     'failure' : -1 ,\n",
    "#     'nonexistent' : 0 ,\n",
    "#     'success' : 1\n",
    "# }\n",
    "# df.loc[:, 'poutcome'] = df.poutcome.replace(poutcome_encoding)\n",
    "# df"
   ]
  },
  {
   "cell_type": "markdown",
   "id": "23daec54",
   "metadata": {},
   "source": [
    "<h2 align=right style=\"line-height:200%;font-family:vazir;color:#0099cc\">\n",
    "<font face=\"vazir\" color=\"#0099cc\">\n",
    "پیش‌پردازش و مهندسی ویژگی\n",
    "</font>\n",
    "</h2>\n",
    "\n",
    "<p dir=rtl style=\"direction: rtl; text-align: justify; line-height:200%; font-family:vazir; font-size:medium\">\n",
    "<font face=\"vazir\" size=3>\n",
    "    در این سوال شما می‌توانید از هر تکنیک پیش‌پردازش/مهندسی ویژگی که در فصل‌های گذشته آموختید، استفاده کنید.\n",
    "    <br>\n",
    "    تکنیک‌هایی که استفاده می‌کنید به شکل مستقیم مورد ارزیابی توسط سامانه داوری قرار <b>نمی‌گیرند.</b> بلکه همه آن‌ها در دقت مدل شما تاثیر خواهند گذاشت؛ بنابراین هر چه پیش‌پردازش/مهندسی ویژگی بهتری انجام دهید تا دقت مدل بهبود پیدا کند، امتیاز بیشتری از این سوال کسب خواهید کرد.\n",
    "</font>\n",
    "</p>"
   ]
  },
  {
   "cell_type": "code",
   "execution_count": 41,
   "id": "81348475",
   "metadata": {},
   "outputs": [],
   "source": [
    "class Preprocessor () : \n",
    "    def __init__ (self) : \n",
    "        self.poutcome_encoding = {\n",
    "            'failure' : -1 ,\n",
    "            'nonexistent' : 0 ,\n",
    "            'success' : 1\n",
    "        }\n",
    "        \n",
    "        self.month_encoding = {\n",
    "            \"jan\" : 1,\n",
    "            \"feb\" : 2,\n",
    "            \"mar\" : 3,\n",
    "            \"apr\" : 4,\n",
    "            \"may\" : 5,\n",
    "            \"jun\" : 6,\n",
    "            \"jul\" : 7,\n",
    "            \"aug\" : 8,\n",
    "            \"sep\" : 9,\n",
    "            \"oct\" : 10,\n",
    "            \"nov\" : 11,\n",
    "            \"dec\" : 12,\n",
    "        }\n",
    "\n",
    "        self.day_of_week_encoding = {\n",
    "            \"mon\" : 1,\n",
    "            \"tue\" : 2,\n",
    "            \"wed\" : 3,\n",
    "            \"thu\" : 4,\n",
    "            \"fri\" : 5,\n",
    "            \"sat\" : 6,\n",
    "            \"sun\" : 7,\n",
    "        }\n",
    "        \n",
    "        \n",
    "        self.contact_encoding = {\n",
    "            \"telephone\" : 1 ,\n",
    "            \"cellular\" : 0\n",
    "        }\n",
    "        \n",
    "        self.yes_no_encoding = {\n",
    "            \"yes\" : 1, \n",
    "            \"no\" : 0\n",
    "        }\n",
    "        \n",
    "        self.education_encoding = {\n",
    "            \"illiterate\" : 0,\n",
    "            \"basic.4y\" : 1,\n",
    "            \"basic.6y\" : 2,\n",
    "            \"basic.9y\" : 3,\n",
    "            \"high.school\" : 4,\n",
    "            \"professional.course\" : 5,\n",
    "            \"university.degree\" : 6,\n",
    "        }\n",
    "        \n",
    "    def calc_values_to_fill_education (self, df) :\n",
    "        job_edu_corsstab = pd.crosstab(index=df.job, columns=df.education)\n",
    "        self.values_to_fill_education = job_edu_corsstab.idxmax(axis=1)\n",
    "        \n",
    "        \n",
    "    def get_edu_by_job(self, row) :\n",
    "        return self.values_to_fill_education[row['job']]\n",
    "        \n",
    "        \n",
    "    def transform(self, df, one_hot_encode=True, is_train= False) :\n",
    "        \n",
    "        df.drop('default', axis=1, inplace=True)\n",
    "        df.fillna({'marital':df.marital.mode()[0]}, inplace=True)\n",
    "        df.fillna({'job':df.job.mode()[0]}, inplace=True)\n",
    "        \n",
    "        \n",
    "        df.fillna({'loan':df.loan.mode()[0]}, inplace=True)\n",
    "        df.fillna({'housing':df.housing.mode()[0]}, inplace=True)\n",
    "        \n",
    "        self.calc_values_to_fill_education(df)\n",
    "        df.loc[:, 'education'].fillna(df.apply(self.get_edu_by_job, axis=1), inplace=True)\n",
    "        \n",
    "        if is_train : \n",
    "            self.job_marital_encoder = OneHotEncoder(sparse=False, dtype='int')\n",
    "            self.marital_encoder = LabelEncoder()\n",
    "            self.job_encoder = LabelEncoder()\n",
    "        elif not hasattr(self, 'job_marital_encoder') or  not hasattr(self, 'marital_encoder') :\n",
    "                raise AttributeError('job and marital encoders are not instantiated!')\n",
    "            \n",
    "        if one_hot_encode  :\n",
    "            self.job_marital_encoder.fit(df[['job', 'marital']])\n",
    "\n",
    "            cols = list(self.job_marital_encoder.categories_[0]) +  list(self.job_marital_encoder.categories_[1])\n",
    "\n",
    "            encoded_job_marital = pd.DataFrame(self.job_marital_encoder.transform(df[['job', 'marital']]), columns = cols)\n",
    "\n",
    "            df = pd.concat([df,encoded_job_marital], axis=1)\n",
    "            df.drop(['job', 'marital'], axis=1, inplace=True)\n",
    "            \n",
    "        else :\n",
    "            self.marital_encoder.fit(df[['marital']])\n",
    "            df['marital'] = self.marital_encoder.transform(df[['marital']])\n",
    "\n",
    "\n",
    "            self.job_encoder.fit(df[['job']])\n",
    "            df['job'] = self.job_encoder.transform(df[['job']])\n",
    "            \n",
    "            \n",
    "        df.loc[:, 'education'] = df.education.replace(self.education_encoding)\n",
    "            \n",
    "        df.loc[:, 'housing'] = df.housing.replace(self.yes_no_encoding)\n",
    "        df.loc[:, 'loan'] = df.loan.replace(self.yes_no_encoding)\n",
    "        \n",
    "        if is_train :\n",
    "            df.loc[:, 'y'] = df.y.replace(self.yes_no_encoding)\n",
    "        \n",
    "        df.loc[:, 'contact'] = df.contact.replace(self.contact_encoding)\n",
    "        \n",
    "        df.loc[:, 'month'] = df.month.replace(self.month_encoding)\n",
    "        df.loc[:, 'day_of_week'] = df.day_of_week.replace(self.day_of_week_encoding)\n",
    "\n",
    "        df.loc[:, 'pdays'] = df.pdays.replace({999:-1})\n",
    "        df.loc[:, 'poutcome'] = df.poutcome.replace(self.poutcome_encoding)\n",
    "        \n",
    "        return df"
   ]
  },
  {
   "cell_type": "code",
   "execution_count": 42,
   "id": "34a3fc05",
   "metadata": {},
   "outputs": [],
   "source": [
    "preprocessor = Preprocessor()\n",
    "\n",
    "train = preprocessor.transform(df=train_data, one_hot_encode=True, is_train=True)\n",
    "test = preprocessor.transform(df=test_data)"
   ]
  },
  {
   "cell_type": "markdown",
   "id": "f99f2c94",
   "metadata": {},
   "source": [
    "<h2 align=right style=\"line-height:200%;font-family:vazir;color:#0099cc\">\n",
    "<font face=\"vazir\" color=\"#0099cc\">\n",
    "مدل‌سازی\n",
    "</font>\n",
    "</h2>\n",
    "\n",
    "<p dir=rtl style=\"direction: rtl; text-align: justify; line-height:200%; font-family:vazir; font-size:medium\">\n",
    "<font face=\"vazir\" size=3>\n",
    "    حال که داده را پاکسازی کرده و احتمالا ویژگی‌هایی را به آن افزوده یا از آن حذف کرده‌اید، وقت آن است که مدلی آموزش دهید که بتواند متغیر هدف این مسئله را پیش‌بینی کند.\n",
    "</font>\n",
    "</p>"
   ]
  },
  {
   "cell_type": "markdown",
   "id": "84ccbf48",
   "metadata": {},
   "source": [
    "<h3 align=right style=\"direction: rtl;text-align: right;line-height:200%;font-family:vazir;color:#0099cc\">\n",
    "<font face=\"vazir\" color=\"#0099cc\">\n",
    "    استفاده از <code>scikit-learn</code>\n",
    "</font>\n",
    "</h3>\n",
    "\n",
    "\n",
    "<div dir=rtl style=\"direction: rtl;text-align: right;line-height:200%;font-family:vazir;font-size:medium\">\n",
    "<font face=\"vazir\" size=3>\n",
    "    \n",
    "|پارامتر|توضیحات|\n",
    "|------|---|\n",
    "|fit_intercept|زمان ثبت رکورد|\n",
    "|degree|شماره چهارراه|\n",
    "|max_depth|تعداد ماشین‌های گذرکرده|\n",
    "    \n",
    "</font>\n",
    "</div>\n",
    "\n",
    "\n",
    "<p dir=rtl style=\"direction: rtl; text-align: justify; line-height:200%; font-family:vazir; font-size:medium\">\n",
    "<font face=\"vazir\" size=3>\n",
    "    ...\n",
    "</font>\n",
    "</p>"
   ]
  },
  {
   "cell_type": "markdown",
   "id": "7d90b4d9",
   "metadata": {},
   "source": [
    "<h3 align=right style=\"line-height:200%;font-family:vazir;color:#0099cc\">\n",
    "<font face=\"vazir\" color=\"#0099cc\">\n",
    "آموزش مدل\n",
    "</font>\n",
    "</h3>\n",
    "\n",
    "<p dir=rtl style=\"direction: rtl; text-align: justify; line-height:200%; font-family:vazir; font-size:medium\">\n",
    "<font face=\"vazir\" size=3>\n",
    "    در سلول زیر با استفاده از مدل آماده‌ای که در بالا شرح داده شد و به کمک تابع <code>fit</code> الگوریتم را بر روی دادگان آموزشی اجرا کنید.\n",
    "</font>\n",
    "</p>"
   ]
  },
  {
   "cell_type": "code",
   "execution_count": 43,
   "id": "88bcd5e6",
   "metadata": {},
   "outputs": [],
   "source": [
    "from sklearn.model_selection import train_test_split\n",
    "\n",
    "x_train,x_test , y_train,y_test = train_test_split(train.drop('y', axis=1), train.y, random_state=313, stratify=train.y)"
   ]
  },
  {
   "cell_type": "code",
   "execution_count": 44,
   "id": "67ccb64a",
   "metadata": {},
   "outputs": [
    {
     "data": {
      "text/html": [
       "<style>#sk-container-id-1 {color: black;background-color: white;}#sk-container-id-1 pre{padding: 0;}#sk-container-id-1 div.sk-toggleable {background-color: white;}#sk-container-id-1 label.sk-toggleable__label {cursor: pointer;display: block;width: 100%;margin-bottom: 0;padding: 0.3em;box-sizing: border-box;text-align: center;}#sk-container-id-1 label.sk-toggleable__label-arrow:before {content: \"▸\";float: left;margin-right: 0.25em;color: #696969;}#sk-container-id-1 label.sk-toggleable__label-arrow:hover:before {color: black;}#sk-container-id-1 div.sk-estimator:hover label.sk-toggleable__label-arrow:before {color: black;}#sk-container-id-1 div.sk-toggleable__content {max-height: 0;max-width: 0;overflow: hidden;text-align: left;background-color: #f0f8ff;}#sk-container-id-1 div.sk-toggleable__content pre {margin: 0.2em;color: black;border-radius: 0.25em;background-color: #f0f8ff;}#sk-container-id-1 input.sk-toggleable__control:checked~div.sk-toggleable__content {max-height: 200px;max-width: 100%;overflow: auto;}#sk-container-id-1 input.sk-toggleable__control:checked~label.sk-toggleable__label-arrow:before {content: \"▾\";}#sk-container-id-1 div.sk-estimator input.sk-toggleable__control:checked~label.sk-toggleable__label {background-color: #d4ebff;}#sk-container-id-1 div.sk-label input.sk-toggleable__control:checked~label.sk-toggleable__label {background-color: #d4ebff;}#sk-container-id-1 input.sk-hidden--visually {border: 0;clip: rect(1px 1px 1px 1px);clip: rect(1px, 1px, 1px, 1px);height: 1px;margin: -1px;overflow: hidden;padding: 0;position: absolute;width: 1px;}#sk-container-id-1 div.sk-estimator {font-family: monospace;background-color: #f0f8ff;border: 1px dotted black;border-radius: 0.25em;box-sizing: border-box;margin-bottom: 0.5em;}#sk-container-id-1 div.sk-estimator:hover {background-color: #d4ebff;}#sk-container-id-1 div.sk-parallel-item::after {content: \"\";width: 100%;border-bottom: 1px solid gray;flex-grow: 1;}#sk-container-id-1 div.sk-label:hover label.sk-toggleable__label {background-color: #d4ebff;}#sk-container-id-1 div.sk-serial::before {content: \"\";position: absolute;border-left: 1px solid gray;box-sizing: border-box;top: 0;bottom: 0;left: 50%;z-index: 0;}#sk-container-id-1 div.sk-serial {display: flex;flex-direction: column;align-items: center;background-color: white;padding-right: 0.2em;padding-left: 0.2em;position: relative;}#sk-container-id-1 div.sk-item {position: relative;z-index: 1;}#sk-container-id-1 div.sk-parallel {display: flex;align-items: stretch;justify-content: center;background-color: white;position: relative;}#sk-container-id-1 div.sk-item::before, #sk-container-id-1 div.sk-parallel-item::before {content: \"\";position: absolute;border-left: 1px solid gray;box-sizing: border-box;top: 0;bottom: 0;left: 50%;z-index: -1;}#sk-container-id-1 div.sk-parallel-item {display: flex;flex-direction: column;z-index: 1;position: relative;background-color: white;}#sk-container-id-1 div.sk-parallel-item:first-child::after {align-self: flex-end;width: 50%;}#sk-container-id-1 div.sk-parallel-item:last-child::after {align-self: flex-start;width: 50%;}#sk-container-id-1 div.sk-parallel-item:only-child::after {width: 0;}#sk-container-id-1 div.sk-dashed-wrapped {border: 1px dashed gray;margin: 0 0.4em 0.5em 0.4em;box-sizing: border-box;padding-bottom: 0.4em;background-color: white;}#sk-container-id-1 div.sk-label label {font-family: monospace;font-weight: bold;display: inline-block;line-height: 1.2em;}#sk-container-id-1 div.sk-label-container {text-align: center;}#sk-container-id-1 div.sk-container {/* jupyter's `normalize.less` sets `[hidden] { display: none; }` but bootstrap.min.css set `[hidden] { display: none !important; }` so we also need the `!important` here to be able to override the default hidden behavior on the sphinx rendered scikit-learn.org. See: https://github.com/scikit-learn/scikit-learn/issues/21755 */display: inline-block !important;position: relative;}#sk-container-id-1 div.sk-text-repr-fallback {display: none;}</style><div id=\"sk-container-id-1\" class=\"sk-top-container\"><div class=\"sk-text-repr-fallback\"><pre>AdaBoostClassifier(base_estimator=RandomForestClassifier(class_weight=&#x27;balanced&#x27;,\n",
       "                                                         n_estimators=25),\n",
       "                   n_estimators=1)</pre><b>In a Jupyter environment, please rerun this cell to show the HTML representation or trust the notebook. <br />On GitHub, the HTML representation is unable to render, please try loading this page with nbviewer.org.</b></div><div class=\"sk-container\" hidden><div class=\"sk-item sk-dashed-wrapped\"><div class=\"sk-label-container\"><div class=\"sk-label sk-toggleable\"><input class=\"sk-toggleable__control sk-hidden--visually\" id=\"sk-estimator-id-1\" type=\"checkbox\" ><label for=\"sk-estimator-id-1\" class=\"sk-toggleable__label sk-toggleable__label-arrow\">AdaBoostClassifier</label><div class=\"sk-toggleable__content\"><pre>AdaBoostClassifier(base_estimator=RandomForestClassifier(class_weight=&#x27;balanced&#x27;,\n",
       "                                                         n_estimators=25),\n",
       "                   n_estimators=1)</pre></div></div></div><div class=\"sk-parallel\"><div class=\"sk-parallel-item\"><div class=\"sk-item\"><div class=\"sk-label-container\"><div class=\"sk-label sk-toggleable\"><input class=\"sk-toggleable__control sk-hidden--visually\" id=\"sk-estimator-id-2\" type=\"checkbox\" ><label for=\"sk-estimator-id-2\" class=\"sk-toggleable__label sk-toggleable__label-arrow\">base_estimator: RandomForestClassifier</label><div class=\"sk-toggleable__content\"><pre>RandomForestClassifier(class_weight=&#x27;balanced&#x27;, n_estimators=25)</pre></div></div></div><div class=\"sk-serial\"><div class=\"sk-item\"><div class=\"sk-estimator sk-toggleable\"><input class=\"sk-toggleable__control sk-hidden--visually\" id=\"sk-estimator-id-3\" type=\"checkbox\" ><label for=\"sk-estimator-id-3\" class=\"sk-toggleable__label sk-toggleable__label-arrow\">RandomForestClassifier</label><div class=\"sk-toggleable__content\"><pre>RandomForestClassifier(class_weight=&#x27;balanced&#x27;, n_estimators=25)</pre></div></div></div></div></div></div></div></div></div></div>"
      ],
      "text/plain": [
       "AdaBoostClassifier(base_estimator=RandomForestClassifier(class_weight='balanced',\n",
       "                                                         n_estimators=25),\n",
       "                   n_estimators=1)"
      ]
     },
     "execution_count": 44,
     "metadata": {},
     "output_type": "execute_result"
    }
   ],
   "source": [
    "from sklearn.ensemble import AdaBoostClassifier, RandomForestClassifier\n",
    "base_estimator = RandomForestClassifier(class_weight='balanced', n_estimators=25)\n",
    "model = AdaBoostClassifier(base_estimator=base_estimator, n_estimators=1)\n",
    "model.fit(x_train, y_train)"
   ]
  },
  {
   "cell_type": "markdown",
   "id": "33da5d2a",
   "metadata": {},
   "source": [
    "<h3 align=right style=\"line-height:200%;font-family:vazir;color:#0099cc\">\n",
    "<font face=\"vazir\" color=\"#0099cc\">\n",
    "معیار ارزیابی\n",
    "</font>\n",
    "</h3>\n",
    "\n",
    "<p dir=rtl style=\"direction: rtl; text-align: justify; line-height:200%; font-family:vazir; font-size:medium\">\n",
    "<font face=\"vazir\" size=3>\n",
    "    معیاری که برای ارزیابی عملکرد مدل انتخاب کرده‌ایم، <code>NAME A METRIC</code> نام دارد.\n",
    "    <br>\n",
    "    این معیار، سنجه ارزیابی کیفیت مدل شماست. به عبارت بهتر در سامانه داوری هم از همین معیار برای نمره‌دهی استفاده شده است.\n",
    "    <br>\n",
    "    پیشنهاد می‌شود با توجه به این معیار، عملکرد مدل خود را بر روی دادگان آموزش یا اعتبارسنجی ارزیابی کنید.\n",
    "</font>\n",
    "</p>"
   ]
  },
  {
   "cell_type": "code",
   "execution_count": 45,
   "id": "97df9953",
   "metadata": {
    "scrolled": true
   },
   "outputs": [
    {
     "name": "stdout",
     "output_type": "stream",
     "text": [
      "              precision    recall  f1-score   support\n",
      "\n",
      "           0       0.93      0.97      0.95      8693\n",
      "           1       0.66      0.46      0.54      1104\n",
      "\n",
      "    accuracy                           0.91      9797\n",
      "   macro avg       0.80      0.71      0.75      9797\n",
      "weighted avg       0.90      0.91      0.91      9797\n",
      "\n",
      "0.5415778251599148\n"
     ]
    }
   ],
   "source": [
    "from sklearn.metrics import classification_report, f1_score\n",
    "y_pred = model.predict(x_test)\n",
    "print(classification_report(y_test, y_pred))\n",
    "print(f1_score(y_test, y_pred))"
   ]
  },
  {
   "cell_type": "markdown",
   "id": "ddad09cf",
   "metadata": {},
   "source": [
    "<p dir=rtl style=\"direction: rtl; text-align: justify; line-height:200%; font-family:vazir; font-size:medium\">\n",
    "<font color=\"red\"><b color='red'>توجه:</b></font>\n",
    "<font face=\"vazir\" size=3>\n",
    " جهت کسب امتیاز کامل نیاز است تا پاسخ شما حداقل امتیاز <code>THRESHOLD</code> را با توجه به معیار معرفی‌شده کسب نماید.\n",
    "</font>\n",
    "</p>"
   ]
  },
  {
   "cell_type": "markdown",
   "id": "4e9984de",
   "metadata": {},
   "source": [
    "<h2 align=right style=\"line-height:200%;font-family:vazir;color:#0099cc\">\n",
    "<font face=\"vazir\" color=\"#0099cc\">\n",
    " پیش‌بینی برای داده تست و خروجی\n",
    "</font>\n",
    "</h2>\n",
    "\n",
    "<p dir=rtl style=\"direction: rtl; text-align: justify; line-height:200%; font-family:vazir; font-size:medium\">\n",
    "<font face=\"vazir\" size=3>\n",
    "    پس از مهندسی ویژگی و مدل‌سازی، الگوریتمی دارید که می‌تواند شما را از متغیرهای مستقل به متغیر هدف برساند.\n",
    "    <br>\n",
    "    از این مدل برای پیش‌بینی نمونه‌های موجود در داده تست استفاده کنید و نتایج را در قالب جدول زیر آماده کنید.\n",
    "</font>\n",
    "</p>"
   ]
  },
  {
   "cell_type": "markdown",
   "id": "c2f6d82d",
   "metadata": {},
   "source": [
    "<center>\n",
    "<div dir=rtl style=\"direction: rtl;line-height:200%;font-family:vazir;font-size:medium\">\n",
    "<font face=\"vazir\" size=3>\n",
    "    \n",
    "|ستون|توضیحات|\n",
    "|:------:|:---:|\n",
    "|DateTime|زمان ثبت رکورد|\n",
    "|Junction|شماره چهارراه|\n",
    "|Car|تعداد ماشین‌های گذرکرده|\n",
    "    \n",
    "</font>\n",
    "</div>\n",
    "</center>\n",
    "\n",
    "\n",
    "<p dir=rtl style=\"direction: rtl; text-align: justify; line-height:200%; font-family:vazir; font-size:medium\">\n",
    "<font face=\"vazir\" size=3>\n",
    "    توضیحات اضافه\n",
    "</font>\n",
    "</p>"
   ]
  },
  {
   "cell_type": "code",
   "execution_count": 48,
   "id": "3d4a0844",
   "metadata": {},
   "outputs": [],
   "source": [
    "# predict test samples\n",
    "submission = pd.DataFrame()\n",
    "submission['y'] = model.predict(test)\n",
    "ans = pd.read_csv('../../judge/true_values/df_true.csv')"
   ]
  },
  {
   "cell_type": "code",
   "execution_count": 50,
   "id": "7eb7258b",
   "metadata": {},
   "outputs": [
    {
     "data": {
      "text/html": [
       "<div>\n",
       "<style scoped>\n",
       "    .dataframe tbody tr th:only-of-type {\n",
       "        vertical-align: middle;\n",
       "    }\n",
       "\n",
       "    .dataframe tbody tr th {\n",
       "        vertical-align: top;\n",
       "    }\n",
       "\n",
       "    .dataframe thead th {\n",
       "        text-align: right;\n",
       "    }\n",
       "</style>\n",
       "<table border=\"1\" class=\"dataframe\">\n",
       "  <thead>\n",
       "    <tr style=\"text-align: right;\">\n",
       "      <th></th>\n",
       "      <th>y</th>\n",
       "    </tr>\n",
       "  </thead>\n",
       "  <tbody>\n",
       "    <tr>\n",
       "      <th>0</th>\n",
       "      <td>0</td>\n",
       "    </tr>\n",
       "    <tr>\n",
       "      <th>1</th>\n",
       "      <td>0</td>\n",
       "    </tr>\n",
       "    <tr>\n",
       "      <th>2</th>\n",
       "      <td>0</td>\n",
       "    </tr>\n",
       "    <tr>\n",
       "      <th>3</th>\n",
       "      <td>0</td>\n",
       "    </tr>\n",
       "    <tr>\n",
       "      <th>4</th>\n",
       "      <td>0</td>\n",
       "    </tr>\n",
       "    <tr>\n",
       "      <th>...</th>\n",
       "      <td>...</td>\n",
       "    </tr>\n",
       "    <tr>\n",
       "      <th>1995</th>\n",
       "      <td>0</td>\n",
       "    </tr>\n",
       "    <tr>\n",
       "      <th>1996</th>\n",
       "      <td>0</td>\n",
       "    </tr>\n",
       "    <tr>\n",
       "      <th>1997</th>\n",
       "      <td>0</td>\n",
       "    </tr>\n",
       "    <tr>\n",
       "      <th>1998</th>\n",
       "      <td>1</td>\n",
       "    </tr>\n",
       "    <tr>\n",
       "      <th>1999</th>\n",
       "      <td>0</td>\n",
       "    </tr>\n",
       "  </tbody>\n",
       "</table>\n",
       "<p>2000 rows × 1 columns</p>\n",
       "</div>"
      ],
      "text/plain": [
       "      y\n",
       "0     0\n",
       "1     0\n",
       "2     0\n",
       "3     0\n",
       "4     0\n",
       "...  ..\n",
       "1995  0\n",
       "1996  0\n",
       "1997  0\n",
       "1998  1\n",
       "1999  0\n",
       "\n",
       "[2000 rows x 1 columns]"
      ]
     },
     "execution_count": 50,
     "metadata": {},
     "output_type": "execute_result"
    }
   ],
   "source": [
    "ans.replace({'yes':1, 'no':0}, inplace=True)\n",
    "ans"
   ]
  },
  {
   "cell_type": "code",
   "execution_count": null,
   "id": "0a92d7eb",
   "metadata": {},
   "outputs": [],
   "source": [
    "ans.tp"
   ]
  },
  {
   "cell_type": "code",
   "execution_count": 51,
   "id": "2d46a6cd",
   "metadata": {},
   "outputs": [
    {
     "data": {
      "text/plain": [
       "0.532981530343008"
      ]
     },
     "execution_count": 51,
     "metadata": {},
     "output_type": "execute_result"
    }
   ],
   "source": [
    "f1_score(ans.y, submission.y)"
   ]
  },
  {
   "cell_type": "markdown",
   "id": "0a77e7cd",
   "metadata": {},
   "source": [
    "<h2 align=right style=\"line-height:200%;font-family:vazir;color:#0099cc\">\n",
    "<font face=\"vazir\" color=\"#0099cc\">\n",
    "<b>سلول جواب‌ساز</b>\n",
    "</font>\n",
    "</h2>\n",
    "\n",
    "<p dir=rtl style=\"direction: rtl; text-align: justify; line-height:200%; font-family:vazir; font-size:medium\">\n",
    "<font face=\"vazir\" size=3>\n",
    "    برای ساخته‌شدن فایل <code>result.zip</code> سلول زیر را اجرا کنید. توجه داشته باشید که پیش از اجرای سلول زیر تغییرات اعمال شده در نت‌بوک را ذخیره کرده باشید (<code>ctrl+s</code>) تا در صورت نیاز به پشتیبانی امکان بررسی کد شما وجود داشته باشد.\n",
    "</font>\n",
    "</p>"
   ]
  },
  {
   "cell_type": "code",
   "execution_count": 47,
   "id": "2c3bcd76",
   "metadata": {},
   "outputs": [
    {
     "name": "stdout",
     "output_type": "stream",
     "text": [
      "File Paths:\n",
      "['bank_customers.ipynb', 'submission.csv', 'model']\n"
     ]
    }
   ],
   "source": [
    "import zipfile\n",
    "import joblib\n",
    "\n",
    "def compress(file_names):\n",
    "    print(\"File Paths:\")\n",
    "    print(file_names)\n",
    "    compression = zipfile.ZIP_DEFLATED\n",
    "    with zipfile.ZipFile(\"result.zip\", mode=\"w\") as zf:\n",
    "        for file_name in file_names:\n",
    "            zf.write('./' + file_name, file_name, compress_type=compression)\n",
    "\n",
    "joblib.dump(model, 'model')\n",
    "submission.to_csv('submission.csv', index=False)\n",
    "file_names = ['bank_customers.ipynb', 'submission.csv', 'model']\n",
    "compress(file_names)"
   ]
  },
  {
   "cell_type": "markdown",
   "id": "9d324736",
   "metadata": {},
   "source": [
    "<h4 align=right style=\"line-height:200%;font-family:vazir;color:#0099cc\">\n",
    "<font face=\"vazir\" color=\"#0099cc\">\n",
    "<b>راهنمایی</b>\n",
    "</font>\n",
    "</h4>\n",
    "\n",
    "<p dir=rtl style=\"direction: rtl;text-align: right;line-height:200%;font-family:vazir;font-size:medium\">\n",
    "<font face=\"vazir\" size=3>\n",
    "    ...\n",
    "</font>\n",
    "</p>"
   ]
  }
 ],
 "metadata": {
  "kernelspec": {
   "display_name": "Python 3 (ipykernel)",
   "language": "python",
   "name": "python3"
  },
  "language_info": {
   "codemirror_mode": {
    "name": "ipython",
    "version": 3
   },
   "file_extension": ".py",
   "mimetype": "text/x-python",
   "name": "python",
   "nbconvert_exporter": "python",
   "pygments_lexer": "ipython3",
   "version": "3.9.2"
  }
 },
 "nbformat": 4,
 "nbformat_minor": 5
}
